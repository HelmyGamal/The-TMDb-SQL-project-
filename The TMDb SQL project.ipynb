{
 "cells": [
  {
   "cell_type": "markdown",
   "id": "b6bdd20c",
   "metadata": {},
   "source": [
    "## The TMDb database\n",
    "\n",
    "I will be exploring [The Movie Database](https://www.themoviedb.org/) – an online movie and TV show database that houses some of the most popular movies and TV shows at your fingertips. The TMDb database supports 39 official languages used in over 180 countries daily and dates back all the way to 2008. \n",
    "\n",
    "\n",
    "<img src=\"https://github.com/Explore-AI/Pictures/blob/master/sql_tmdb.jpg?raw=true\" width=80%/>\n",
    "\n",
    "\n",
    "Below is an Entity Relationship Diagram (ERD) of the TMDb database:\n",
    "\n",
    "<img src=\"https://github.com/Explore-AI/Pictures/blob/master/TMDB_ER_diagram.png?raw=true\" width=70%/>\n",
    "\n",
    "As can be seen from the ERD, the TMDb database consists of `12 tables` containing information about movies, cast, genre, and so much more.  \n",
    "\n",
    "Let's get started!"
   ]
  },
  {
   "cell_type": "markdown",
   "id": "5a0b7683",
   "metadata": {
    "tags": []
   },
   "source": [
    "## Loading the database\n",
    "\n",
    "Before you begin, you need to prepare your SQL environment.  You can do this by loading the magic command `%load_ext sql`."
   ]
  },
  {
   "cell_type": "code",
   "execution_count": 1,
   "id": "0f34ea72",
   "metadata": {},
   "outputs": [],
   "source": [
    "# Load and activate the SQL extension to allow us to execute SQL in a Jupyter notebook. \n",
    "# If you get an error here, make sure that mysql and pymysql are installed correctly. \n",
    "\n",
    "%load_ext sql"
   ]
  },
  {
   "cell_type": "markdown",
   "id": "3f78b691",
   "metadata": {},
   "source": [
    "Next, go ahead and load your database. To do this, you will need to ensure you have downloaded the `TMDB.db` sqlite file and have stored it in a known location."
   ]
  },
  {
   "cell_type": "code",
   "execution_count": 2,
   "id": "d279a04d",
   "metadata": {},
   "outputs": [
    {
     "data": {
      "text/plain": [
       "'Connected: @TMDB-a-4006.db'"
      ]
     },
     "execution_count": 2,
     "metadata": {},
     "output_type": "execute_result"
    }
   ],
   "source": [
    "# Establish a connection to the local database using the '%sql' magic command.\n",
    "# Replace 'password' with our connection password and `db_name` with our database name. \n",
    "# If you get an error here, please make sure the database name or password is correct.\n",
    "\n",
    "%sql sqlite:///TMDB-a-4006.db"
   ]
  },
  {
   "cell_type": "markdown",
   "id": "f5ed5285",
   "metadata": {},
   "source": [
    "## Questions \n",
    "\n",
    "I will invesigate this dataset to answer some questions by executing some SQL queries."
   ]
  },
  {
   "cell_type": "markdown",
   "id": "86802726",
   "metadata": {},
   "source": [
    "### Question 1\n",
    "\n",
    "Who won the Oscar for “Actor in a Leading Role” in  2015?"
   ]
  },
  {
   "cell_type": "code",
   "execution_count": 4,
   "id": "91f3421f",
   "metadata": {},
   "outputs": [
    {
     "name": "stdout",
     "output_type": "stream",
     "text": [
      " * sqlite:///TMDB-a-4006.db\n",
      "Done.\n"
     ]
    },
    {
     "data": {
      "text/html": [
       "<table>\n",
       "    <thead>\n",
       "        <tr>\n",
       "            <th>year</th>\n",
       "            <th>award</th>\n",
       "            <th>winner</th>\n",
       "            <th>name</th>\n",
       "            <th>film</th>\n",
       "        </tr>\n",
       "    </thead>\n",
       "    <tbody>\n",
       "        <tr>\n",
       "            <td>2015</td>\n",
       "            <td>Actor in a Leading Role</td>\n",
       "            <td>1.0</td>\n",
       "            <td>Leonardo DiCaprio</td>\n",
       "            <td>The Revenant</td>\n",
       "        </tr>\n",
       "    </tbody>\n",
       "</table>"
      ],
      "text/plain": [
       "[('2015', 'Actor in a Leading Role', '1.0', 'Leonardo DiCaprio', 'The Revenant')]"
      ]
     },
     "execution_count": 4,
     "metadata": {},
     "output_type": "execute_result"
    }
   ],
   "source": [
    "%%sql\n",
    "\n",
    "SELECT *\n",
    "FROM oscars\n",
    "WHERE\n",
    "    year = 2015\n",
    "    AND winner = 1.0\n",
    "    AND award like \"Actor in a Leading Role\"\n",
    "LIMIT 1000"
   ]
  },
  {
   "cell_type": "markdown",
   "id": "9545206c",
   "metadata": {},
   "source": [
    "### Question 2\n",
    "\n",
    "What is the ten oldest movies in the database?"
   ]
  },
  {
   "cell_type": "code",
   "execution_count": 5,
   "id": "748f4263",
   "metadata": {},
   "outputs": [
    {
     "name": "stdout",
     "output_type": "stream",
     "text": [
      " * sqlite:///TMDB-a-4006.db\n",
      "Done.\n"
     ]
    },
    {
     "data": {
      "text/html": [
       "<table>\n",
       "    <thead>\n",
       "        <tr>\n",
       "            <th>title</th>\n",
       "        </tr>\n",
       "    </thead>\n",
       "    <tbody>\n",
       "        <tr>\n",
       "            <td>Intolerance</td>\n",
       "        </tr>\n",
       "        <tr>\n",
       "            <td>The Big Parade</td>\n",
       "        </tr>\n",
       "        <tr>\n",
       "            <td>Metropolis</td>\n",
       "        </tr>\n",
       "        <tr>\n",
       "            <td>Pandora&#x27;s Box</td>\n",
       "        </tr>\n",
       "        <tr>\n",
       "            <td>The Broadway Melody</td>\n",
       "        </tr>\n",
       "        <tr>\n",
       "            <td>Hell&#x27;s Angels</td>\n",
       "        </tr>\n",
       "        <tr>\n",
       "            <td>A Farewell to Arms</td>\n",
       "        </tr>\n",
       "        <tr>\n",
       "            <td>42nd Street</td>\n",
       "        </tr>\n",
       "        <tr>\n",
       "            <td>She Done Him Wrong</td>\n",
       "        </tr>\n",
       "        <tr>\n",
       "            <td>It Happened One Night</td>\n",
       "        </tr>\n",
       "    </tbody>\n",
       "</table>"
      ],
      "text/plain": [
       "[('Intolerance',),\n",
       " ('The Big Parade',),\n",
       " ('Metropolis',),\n",
       " (\"Pandora's Box\",),\n",
       " ('The Broadway Melody',),\n",
       " (\"Hell's Angels\",),\n",
       " ('A Farewell to Arms',),\n",
       " ('42nd Street',),\n",
       " ('She Done Him Wrong',),\n",
       " ('It Happened One Night',)]"
      ]
     },
     "execution_count": 5,
     "metadata": {},
     "output_type": "execute_result"
    }
   ],
   "source": [
    "%%sql\n",
    "\n",
    "SELECT title\n",
    "FROM movies\n",
    "WHERE\n",
    "    release_date IS NOT NULL ORDER BY release_date ASC\n",
    "LIMIT 10"
   ]
  },
  {
   "cell_type": "markdown",
   "id": "79dc3d5f",
   "metadata": {},
   "source": [
    "### Question 3\n",
    "\n",
    "How many unique awards are there in the Oscars table?"
   ]
  },
  {
   "cell_type": "code",
   "execution_count": 6,
   "id": "f4621a53",
   "metadata": {},
   "outputs": [
    {
     "name": "stdout",
     "output_type": "stream",
     "text": [
      " * sqlite:///TMDB-a-4006.db\n",
      "Done.\n"
     ]
    },
    {
     "data": {
      "text/html": [
       "<table>\n",
       "    <thead>\n",
       "        <tr>\n",
       "            <th>COUNT(DISTINCT award)</th>\n",
       "        </tr>\n",
       "    </thead>\n",
       "    <tbody>\n",
       "        <tr>\n",
       "            <td>114</td>\n",
       "        </tr>\n",
       "    </tbody>\n",
       "</table>"
      ],
      "text/plain": [
       "[(114,)]"
      ]
     },
     "execution_count": 6,
     "metadata": {},
     "output_type": "execute_result"
    }
   ],
   "source": [
    "%%sql\n",
    "\n",
    "SELECT \n",
    "    COUNT(DISTINCT award)\n",
    "FROM oscars\n",
    "LIMIT 100"
   ]
  },
  {
   "cell_type": "markdown",
   "id": "a8b06373",
   "metadata": {},
   "source": [
    "### Question 4\n",
    "\n",
    "How many movies are there that contain the word “Spider” within their title?"
   ]
  },
  {
   "cell_type": "code",
   "execution_count": 7,
   "id": "1e003247",
   "metadata": {},
   "outputs": [
    {
     "name": "stdout",
     "output_type": "stream",
     "text": [
      " * sqlite:///TMDB-a-4006.db\n",
      "Done.\n"
     ]
    },
    {
     "data": {
      "text/html": [
       "<table>\n",
       "    <thead>\n",
       "        <tr>\n",
       "            <th>COUNT(*)</th>\n",
       "        </tr>\n",
       "    </thead>\n",
       "    <tbody>\n",
       "        <tr>\n",
       "            <td>9</td>\n",
       "        </tr>\n",
       "    </tbody>\n",
       "</table>"
      ],
      "text/plain": [
       "[(9,)]"
      ]
     },
     "execution_count": 7,
     "metadata": {},
     "output_type": "execute_result"
    }
   ],
   "source": [
    "%%sql\n",
    "\n",
    "SELECT COUNT(*)\n",
    "FROM movies\n",
    "WHERE title LIKE '%Spider%'"
   ]
  },
  {
   "cell_type": "markdown",
   "id": "2f77c5bd",
   "metadata": {},
   "source": [
    "### Question 5\n",
    "\n",
    "How many movies are there that are both in the \"Thriller\" genre and contain the word “love” anywhere in the keywords?"
   ]
  },
  {
   "cell_type": "code",
   "execution_count": 9,
   "id": "abc5146c",
   "metadata": {},
   "outputs": [
    {
     "name": "stdout",
     "output_type": "stream",
     "text": [
      " * sqlite:///TMDB-a-4006.db\n",
      "Done.\n"
     ]
    },
    {
     "data": {
      "text/html": [
       "<table>\n",
       "    <thead>\n",
       "        <tr>\n",
       "            <th>count(*)</th>\n",
       "        </tr>\n",
       "    </thead>\n",
       "    <tbody>\n",
       "        <tr>\n",
       "            <td>55</td>\n",
       "        </tr>\n",
       "    </tbody>\n",
       "</table>"
      ],
      "text/plain": [
       "[(55,)]"
      ]
     },
     "execution_count": 9,
     "metadata": {},
     "output_type": "execute_result"
    }
   ],
   "source": [
    "%%sql\n",
    "\n",
    "SELECT\n",
    "    count(*)\n",
    "FROM movies\n",
    "JOIN genremap\n",
    "ON movies.movie_id = genremap.movie_id\n",
    "JOIN genres\n",
    "ON genremap.genre_id = genres.genre_id\n",
    "JOIN keywordmap\n",
    "ON movies.movie_id = keywordmap.movie_id\n",
    "JOIN keywords\n",
    "ON keywordmap.keyword_id = keywords.keyword_id\n",
    "WHERE\n",
    "    genre_name = 'Thriller'\n",
    "    AND keyword_name LIKE '%love%'\n",
    "LIMIT 1000"
   ]
  },
  {
   "cell_type": "markdown",
   "id": "8c6e82eb",
   "metadata": {},
   "source": [
    "### Question 6\n",
    "\n",
    "How many movies are there that were released between 1 August 2006 ('2006-08-01') and 1 October 2009 ('2009-10-01') that have a popularity score of more than 40 and a budget of less than 50 000 000?"
   ]
  },
  {
   "cell_type": "code",
   "execution_count": 10,
   "id": "e8de6542",
   "metadata": {},
   "outputs": [
    {
     "name": "stdout",
     "output_type": "stream",
     "text": [
      " * sqlite:///TMDB-a-4006.db\n",
      "Done.\n"
     ]
    },
    {
     "data": {
      "text/html": [
       "<table>\n",
       "    <thead>\n",
       "        <tr>\n",
       "            <th>COUNT(DISTINCT movie_id)</th>\n",
       "        </tr>\n",
       "    </thead>\n",
       "    <tbody>\n",
       "        <tr>\n",
       "            <td>29</td>\n",
       "        </tr>\n",
       "    </tbody>\n",
       "</table>"
      ],
      "text/plain": [
       "[(29,)]"
      ]
     },
     "execution_count": 10,
     "metadata": {},
     "output_type": "execute_result"
    }
   ],
   "source": [
    "%%sql\n",
    "\n",
    "SELECT COUNT(DISTINCT movie_id)\n",
    "FROM movies\n",
    "WHERE\n",
    "    release_date BETWEEN '2006-08-01' AND '2009-10-01'\n",
    "    AND\n",
    "    popularity > 40\n",
    "    AND\n",
    "    budget < 50000000\n",
    "ORDER BY release_date\n",
    "LIMIT 100"
   ]
  },
  {
   "cell_type": "markdown",
   "id": "cf0d12b1",
   "metadata": {},
   "source": [
    "### Question 7\n",
    "\n",
    "what are the films whwre unique characters has \"Vin Diesel\" played so far in the database?"
   ]
  },
  {
   "cell_type": "code",
   "execution_count": 15,
   "id": "cc1eecb5",
   "metadata": {},
   "outputs": [
    {
     "name": "stdout",
     "output_type": "stream",
     "text": [
      " * sqlite:///TMDB-a-4006.db\n",
      "Done.\n"
     ]
    },
    {
     "data": {
      "text/html": [
       "<table>\n",
       "    <thead>\n",
       "        <tr>\n",
       "            <th>characters</th>\n",
       "            <th>actor_name</th>\n",
       "        </tr>\n",
       "    </thead>\n",
       "    <tbody>\n",
       "        <tr>\n",
       "            <td>Chris Varick</td>\n",
       "            <td>Vin Diesel</td>\n",
       "        </tr>\n",
       "        <tr>\n",
       "            <td>Dominic Toretto</td>\n",
       "            <td>Vin Diesel</td>\n",
       "        </tr>\n",
       "        <tr>\n",
       "            <td>Dominic Toretto (uncredited)</td>\n",
       "            <td>Vin Diesel</td>\n",
       "        </tr>\n",
       "        <tr>\n",
       "            <td>Finger (voice)</td>\n",
       "            <td>Vin Diesel</td>\n",
       "        </tr>\n",
       "        <tr>\n",
       "            <td>Groot (voice)</td>\n",
       "            <td>Vin Diesel</td>\n",
       "        </tr>\n",
       "        <tr>\n",
       "            <td>Jackie DiNorscio</td>\n",
       "            <td>Vin Diesel</td>\n",
       "        </tr>\n",
       "        <tr>\n",
       "            <td>Kaulder</td>\n",
       "            <td>Vin Diesel</td>\n",
       "        </tr>\n",
       "        <tr>\n",
       "            <td>Private Adrian Caparzo</td>\n",
       "            <td>Vin Diesel</td>\n",
       "        </tr>\n",
       "        <tr>\n",
       "            <td>Richard B. Riddick</td>\n",
       "            <td>Vin Diesel</td>\n",
       "        </tr>\n",
       "        <tr>\n",
       "            <td>Riddick</td>\n",
       "            <td>Vin Diesel</td>\n",
       "        </tr>\n",
       "        <tr>\n",
       "            <td>Sean Vetter</td>\n",
       "            <td>Vin Diesel</td>\n",
       "        </tr>\n",
       "        <tr>\n",
       "            <td>Shane Wolf</td>\n",
       "            <td>Vin Diesel</td>\n",
       "        </tr>\n",
       "        <tr>\n",
       "            <td>Taylor Reese</td>\n",
       "            <td>Vin Diesel</td>\n",
       "        </tr>\n",
       "        <tr>\n",
       "            <td>The Iron Giant (voice)</td>\n",
       "            <td>Vin Diesel</td>\n",
       "        </tr>\n",
       "        <tr>\n",
       "            <td>Toorop</td>\n",
       "            <td>Vin Diesel</td>\n",
       "        </tr>\n",
       "        <tr>\n",
       "            <td>Xander Cage</td>\n",
       "            <td>Vin Diesel</td>\n",
       "        </tr>\n",
       "    </tbody>\n",
       "</table>"
      ],
      "text/plain": [
       "[('Chris Varick', 'Vin Diesel'),\n",
       " ('Dominic Toretto', 'Vin Diesel'),\n",
       " ('Dominic Toretto (uncredited)', 'Vin Diesel'),\n",
       " ('Finger (voice)', 'Vin Diesel'),\n",
       " ('Groot (voice)', 'Vin Diesel'),\n",
       " ('Jackie DiNorscio', 'Vin Diesel'),\n",
       " ('Kaulder', 'Vin Diesel'),\n",
       " ('Private Adrian Caparzo', 'Vin Diesel'),\n",
       " ('Richard B. Riddick', 'Vin Diesel'),\n",
       " ('Riddick', 'Vin Diesel'),\n",
       " ('Sean Vetter', 'Vin Diesel'),\n",
       " ('Shane Wolf', 'Vin Diesel'),\n",
       " ('Taylor Reese', 'Vin Diesel'),\n",
       " ('The Iron Giant (voice)', 'Vin Diesel'),\n",
       " ('Toorop', 'Vin Diesel'),\n",
       " ('Xander Cage', 'Vin Diesel')]"
      ]
     },
     "execution_count": 15,
     "metadata": {},
     "output_type": "execute_result"
    }
   ],
   "source": [
    "%%sql\n",
    "\n",
    "SELECT \n",
    "    DISTINCT casts.characters,\n",
    "    actors.actor_name\n",
    "FROM movies\n",
    "JOIN casts\n",
    "ON movies.movie_id = casts.movie_id\n",
    "JOIN actors\n",
    "ON casts.actor_id = actors.actor_id\n",
    "WHERE actors.actor_name = \"Vin Diesel\"\n",
    "GROUP BY 1\n",
    "LIMIT 100"
   ]
  },
  {
   "cell_type": "markdown",
   "id": "297fc8b8",
   "metadata": {},
   "source": [
    "### Question 8\n",
    "\n",
    "What are the genres of the movie “The Royal Tenenbaums”?"
   ]
  },
  {
   "cell_type": "code",
   "execution_count": 16,
   "id": "e2ad1e00",
   "metadata": {},
   "outputs": [
    {
     "name": "stdout",
     "output_type": "stream",
     "text": [
      " * sqlite:///TMDB-a-4006.db\n",
      "Done.\n"
     ]
    },
    {
     "data": {
      "text/html": [
       "<table>\n",
       "    <thead>\n",
       "        <tr>\n",
       "            <th>title</th>\n",
       "            <th>genre_name</th>\n",
       "        </tr>\n",
       "    </thead>\n",
       "    <tbody>\n",
       "        <tr>\n",
       "            <td>The Royal Tenenbaums</td>\n",
       "            <td>Drama</td>\n",
       "        </tr>\n",
       "        <tr>\n",
       "            <td>The Royal Tenenbaums</td>\n",
       "            <td>Comedy</td>\n",
       "        </tr>\n",
       "    </tbody>\n",
       "</table>"
      ],
      "text/plain": [
       "[('The Royal Tenenbaums', 'Drama'), ('The Royal Tenenbaums', 'Comedy')]"
      ]
     },
     "execution_count": 16,
     "metadata": {},
     "output_type": "execute_result"
    }
   ],
   "source": [
    "%%sql\n",
    "\n",
    "SELECT\n",
    "    movies.title,\n",
    "    genres.genre_name\n",
    "FROM movies\n",
    "JOIN genremap\n",
    "ON movies.movie_id = genremap.movie_id\n",
    "JOIN genres\n",
    "ON genremap.genre_id = genres.genre_id\n",
    "WHERE\n",
    "    movies.title LIKE 'The Royal Tenen%'\n",
    "LIMIT 100"
   ]
  },
  {
   "cell_type": "markdown",
   "id": "d3ed71a0",
   "metadata": {},
   "source": [
    "### Question 9\n",
    "\n",
    "What are the three production companies that have the highest movie popularity score on average, as recorded within the database?"
   ]
  },
  {
   "cell_type": "code",
   "execution_count": 18,
   "id": "92d65440",
   "metadata": {},
   "outputs": [
    {
     "name": "stdout",
     "output_type": "stream",
     "text": [
      " * sqlite:///TMDB-a-4006.db\n",
      "Done.\n"
     ]
    },
    {
     "data": {
      "text/html": [
       "<table>\n",
       "    <thead>\n",
       "        <tr>\n",
       "            <th>production_company_name</th>\n",
       "            <th>AVG(movies.popularity)</th>\n",
       "        </tr>\n",
       "    </thead>\n",
       "    <tbody>\n",
       "        <tr>\n",
       "            <td>The Donners&#x27; Company</td>\n",
       "            <td>514.569956</td>\n",
       "        </tr>\n",
       "        <tr>\n",
       "            <td>Bulletproof Cupid</td>\n",
       "            <td>481.098624</td>\n",
       "        </tr>\n",
       "        <tr>\n",
       "            <td>Kinberg Genre</td>\n",
       "            <td>326.92099900000005</td>\n",
       "        </tr>\n",
       "    </tbody>\n",
       "</table>"
      ],
      "text/plain": [
       "[(\"The Donners' Company\", 514.569956),\n",
       " ('Bulletproof Cupid', 481.098624),\n",
       " ('Kinberg Genre', 326.92099900000005)]"
      ]
     },
     "execution_count": 18,
     "metadata": {},
     "output_type": "execute_result"
    }
   ],
   "source": [
    "%%sql\n",
    "\n",
    "SELECT\n",
    "    productioncompanies.production_company_name,\n",
    "    AVG(movies.popularity)\n",
    "FROM movies\n",
    "JOIN productioncompanymap\n",
    "ON movies.movie_id = productioncompanymap.movie_id\n",
    "JOIN productioncompanies\n",
    "ON productioncompanymap.production_company_id = productioncompanies.production_company_id\n",
    "GROUP BY 1\n",
    "ORDER BY 2 DESC\n",
    "LIMIT 3"
   ]
  },
  {
   "cell_type": "markdown",
   "id": "d892dcac",
   "metadata": {},
   "source": [
    "### Question 10\n",
    "\n",
    "How many female actors (i.e. gender = 1) have a name that starts with the letter \"N\"?"
   ]
  },
  {
   "cell_type": "code",
   "execution_count": 19,
   "id": "4bca2942",
   "metadata": {},
   "outputs": [
    {
     "name": "stdout",
     "output_type": "stream",
     "text": [
      " * sqlite:///TMDB-a-4006.db\n",
      "Done.\n"
     ]
    },
    {
     "data": {
      "text/html": [
       "<table>\n",
       "    <thead>\n",
       "        <tr>\n",
       "            <th>COUNT(actor_name)</th>\n",
       "        </tr>\n",
       "    </thead>\n",
       "    <tbody>\n",
       "        <tr>\n",
       "            <td>355</td>\n",
       "        </tr>\n",
       "    </tbody>\n",
       "</table>"
      ],
      "text/plain": [
       "[(355,)]"
      ]
     },
     "execution_count": 19,
     "metadata": {},
     "output_type": "execute_result"
    }
   ],
   "source": [
    "%%sql\n",
    "\n",
    "SELECT COUNT(actor_name)\n",
    "FROM actors\n",
    "WHERE \n",
    "    gender = 1\n",
    "    AND\n",
    "    actor_name LIKE 'N%'\n",
    "LIMIT 100"
   ]
  },
  {
   "cell_type": "markdown",
   "id": "7ea65b50",
   "metadata": {},
   "source": [
    "### Question 11\n",
    "\n",
    "Which genre has, on average, the lowest movie popularity score? "
   ]
  },
  {
   "cell_type": "code",
   "execution_count": 20,
   "id": "e3a55c56",
   "metadata": {},
   "outputs": [
    {
     "name": "stdout",
     "output_type": "stream",
     "text": [
      " * sqlite:///TMDB-a-4006.db\n",
      "Done.\n"
     ]
    },
    {
     "data": {
      "text/html": [
       "<table>\n",
       "    <thead>\n",
       "        <tr>\n",
       "            <th>genre_name</th>\n",
       "            <th>AVG(movies.popularity)</th>\n",
       "        </tr>\n",
       "    </thead>\n",
       "    <tbody>\n",
       "        <tr>\n",
       "            <td>Foreign</td>\n",
       "            <td>0.686786794117647</td>\n",
       "        </tr>\n",
       "    </tbody>\n",
       "</table>"
      ],
      "text/plain": [
       "[('Foreign', 0.686786794117647)]"
      ]
     },
     "execution_count": 20,
     "metadata": {},
     "output_type": "execute_result"
    }
   ],
   "source": [
    "%%sql\n",
    "\n",
    "SELECT\n",
    "    genres.genre_name,\n",
    "    AVG(movies.popularity)\n",
    "FROM movies\n",
    "JOIN genremap\n",
    "ON movies.movie_id = genremap.movie_id\n",
    "JOIN genres\n",
    "ON genremap.genre_id = genres.genre_id\n",
    "GROUP BY 1\n",
    "ORDER BY 2 ASC\n",
    "LIMIT 1"
   ]
  },
  {
   "cell_type": "markdown",
   "id": "3769de93",
   "metadata": {},
   "source": [
    "### Question 12\n",
    "\n",
    "Which award category has the highest number of actor nominations (actors can be male or female)? (Hint: `Oscars.name` contains both actors' names and film names.)"
   ]
  },
  {
   "cell_type": "code",
   "execution_count": 21,
   "id": "e3943f72",
   "metadata": {},
   "outputs": [
    {
     "name": "stdout",
     "output_type": "stream",
     "text": [
      " * sqlite:///TMDB-a-4006.db\n",
      "Done.\n"
     ]
    },
    {
     "data": {
      "text/html": [
       "<table>\n",
       "    <thead>\n",
       "        <tr>\n",
       "            <th>award</th>\n",
       "            <th>COUNT(name)</th>\n",
       "        </tr>\n",
       "    </thead>\n",
       "    <tbody>\n",
       "        <tr>\n",
       "            <td>Actor in a Supporting Role</td>\n",
       "            <td>356</td>\n",
       "        </tr>\n",
       "    </tbody>\n",
       "</table>"
      ],
      "text/plain": [
       "[('Actor in a Supporting Role', 356)]"
      ]
     },
     "execution_count": 21,
     "metadata": {},
     "output_type": "execute_result"
    }
   ],
   "source": [
    "%%sql\n",
    "\n",
    "SELECT \n",
    "    DISTINCT award,\n",
    "    COUNT(name)\n",
    "FROM oscars\n",
    "JOIN actors\n",
    "ON oscars.name = actors.actor_name\n",
    "GROUP BY 1\n",
    "ORDER BY 2 DESC\n",
    "LIMIT 1"
   ]
  }
 ],
 "metadata": {
  "kernelspec": {
   "display_name": "Python 3 (ipykernel)",
   "language": "python",
   "name": "python3"
  },
  "language_info": {
   "codemirror_mode": {
    "name": "ipython",
    "version": 3
   },
   "file_extension": ".py",
   "mimetype": "text/x-python",
   "name": "python",
   "nbconvert_exporter": "python",
   "pygments_lexer": "ipython3",
   "version": "3.11.5"
  }
 },
 "nbformat": 4,
 "nbformat_minor": 5
}
